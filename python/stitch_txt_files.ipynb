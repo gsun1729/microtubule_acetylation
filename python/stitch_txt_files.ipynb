{
 "cells": [
  {
   "cell_type": "code",
   "execution_count": 2,
   "metadata": {},
   "outputs": [],
   "source": [
    "import pandas as pd\n",
    "import numpy as np\n",
    "import os\n",
    "import matplotlib.pyplot as plt\n",
    "from utils.file_utils import getFilenames\n",
    "\n",
    "from scipy import stats\n",
    "\n",
    "\n",
    "def freedman_diaconis(data, returnas=\"width\"):\n",
    "    \"\"\"\n",
    "    Use Freedman Diaconis rule to compute optimal histogram bin width. \n",
    "    ``returnas`` can be one of \"width\" or \"bins\", indicating whether\n",
    "    the bin width or number of bins should be returned respectively. \n",
    "\n",
    "    http://www.jtrive.com/determining-histogram-bin-width-using-the-freedman-diaconis-rule.html\n",
    "    \n",
    "    Parameters\n",
    "    ----------\n",
    "    data: np.ndarray\n",
    "        One-dimensional array.\n",
    "\n",
    "    returnas: {\"width\", \"bins\"}\n",
    "        If \"width\", return the estimated width for each histogram bin. \n",
    "        If \"bins\", return the number of bins suggested by rule.\n",
    "    \"\"\"\n",
    "    data = np.asarray(data, dtype=np.float_)\n",
    "    IQR  = stats.iqr(data, rng=(25, 75), scale=\"raw\", nan_policy=\"omit\")\n",
    "    N    = data.size\n",
    "    bw   = (2 * IQR) / np.power(N, 1/3)\n",
    "\n",
    "    if returnas==\"width\":\n",
    "        result = bw\n",
    "    else:\n",
    "        datmin, datmax = data.min(), data.max()\n",
    "        datrng = datmax - datmin\n",
    "        result = int((datrng / bw) + 1)\n",
    "    return(result)"
   ]
  },
  {
   "cell_type": "code",
   "execution_count": 44,
   "metadata": {},
   "outputs": [
    {
     "name": "stdout",
     "output_type": "stream",
     "text": [
      "w0.010 pRX0.00001 60.txt 721\n"
     ]
    },
    {
     "name": "stderr",
     "output_type": "stream",
     "text": [
      "/home/gsun/.virtualenvs/new_main/lib/python3.10/site-packages/scipy/stats/_stats_py.py:3174: VisibleDeprecationWarning: use of scale='raw' is deprecated, use scale=1.0 instead\n",
      "  warnings.warn(\n"
     ]
    },
    {
     "name": "stdout",
     "output_type": "stream",
     "text": [
      "w0.010 pRX0.00001 120.txt 721\n"
     ]
    },
    {
     "name": "stderr",
     "output_type": "stream",
     "text": [
      "/home/gsun/.virtualenvs/new_main/lib/python3.10/site-packages/scipy/stats/_stats_py.py:3174: VisibleDeprecationWarning: use of scale='raw' is deprecated, use scale=1.0 instead\n",
      "  warnings.warn(\n"
     ]
    },
    {
     "name": "stdout",
     "output_type": "stream",
     "text": [
      "w0.010 pRX0.00001 180.txt 721\n"
     ]
    },
    {
     "name": "stderr",
     "output_type": "stream",
     "text": [
      "/home/gsun/.virtualenvs/new_main/lib/python3.10/site-packages/scipy/stats/_stats_py.py:3174: VisibleDeprecationWarning: use of scale='raw' is deprecated, use scale=1.0 instead\n",
      "  warnings.warn(\n"
     ]
    },
    {
     "name": "stdout",
     "output_type": "stream",
     "text": [
      "w0.010 pRX0.00001 300.txt 721\n"
     ]
    },
    {
     "name": "stderr",
     "output_type": "stream",
     "text": [
      "/home/gsun/.virtualenvs/new_main/lib/python3.10/site-packages/scipy/stats/_stats_py.py:3174: VisibleDeprecationWarning: use of scale='raw' is deprecated, use scale=1.0 instead\n",
      "  warnings.warn(\n"
     ]
    },
    {
     "name": "stdout",
     "output_type": "stream",
     "text": [
      "w0.010 pRX0.0001 60.txt 721\n"
     ]
    },
    {
     "name": "stderr",
     "output_type": "stream",
     "text": [
      "/home/gsun/.virtualenvs/new_main/lib/python3.10/site-packages/scipy/stats/_stats_py.py:3174: VisibleDeprecationWarning: use of scale='raw' is deprecated, use scale=1.0 instead\n",
      "  warnings.warn(\n"
     ]
    },
    {
     "name": "stdout",
     "output_type": "stream",
     "text": [
      "w0.010 pRX0.0001 120.txt 721\n"
     ]
    },
    {
     "name": "stderr",
     "output_type": "stream",
     "text": [
      "/home/gsun/.virtualenvs/new_main/lib/python3.10/site-packages/scipy/stats/_stats_py.py:3174: VisibleDeprecationWarning: use of scale='raw' is deprecated, use scale=1.0 instead\n",
      "  warnings.warn(\n"
     ]
    },
    {
     "name": "stdout",
     "output_type": "stream",
     "text": [
      "w0.010 pRX0.0001 180.txt 721\n"
     ]
    },
    {
     "name": "stderr",
     "output_type": "stream",
     "text": [
      "/home/gsun/.virtualenvs/new_main/lib/python3.10/site-packages/scipy/stats/_stats_py.py:3174: VisibleDeprecationWarning: use of scale='raw' is deprecated, use scale=1.0 instead\n",
      "  warnings.warn(\n"
     ]
    },
    {
     "name": "stdout",
     "output_type": "stream",
     "text": [
      "w0.010 pRX0.0001 300.txt 721\n"
     ]
    },
    {
     "name": "stderr",
     "output_type": "stream",
     "text": [
      "/home/gsun/.virtualenvs/new_main/lib/python3.10/site-packages/scipy/stats/_stats_py.py:3174: VisibleDeprecationWarning: use of scale='raw' is deprecated, use scale=1.0 instead\n",
      "  warnings.warn(\n"
     ]
    },
    {
     "name": "stdout",
     "output_type": "stream",
     "text": [
      "w0.010 pRX0.001 60.txt 720\n"
     ]
    },
    {
     "name": "stderr",
     "output_type": "stream",
     "text": [
      "/home/gsun/.virtualenvs/new_main/lib/python3.10/site-packages/scipy/stats/_stats_py.py:3174: VisibleDeprecationWarning: use of scale='raw' is deprecated, use scale=1.0 instead\n",
      "  warnings.warn(\n"
     ]
    },
    {
     "name": "stdout",
     "output_type": "stream",
     "text": [
      "w0.010 pRX0.001 120.txt 720\n"
     ]
    },
    {
     "name": "stderr",
     "output_type": "stream",
     "text": [
      "/home/gsun/.virtualenvs/new_main/lib/python3.10/site-packages/scipy/stats/_stats_py.py:3174: VisibleDeprecationWarning: use of scale='raw' is deprecated, use scale=1.0 instead\n",
      "  warnings.warn(\n"
     ]
    },
    {
     "name": "stdout",
     "output_type": "stream",
     "text": [
      "w0.010 pRX0.001 180.txt 720\n"
     ]
    },
    {
     "name": "stderr",
     "output_type": "stream",
     "text": [
      "/home/gsun/.virtualenvs/new_main/lib/python3.10/site-packages/scipy/stats/_stats_py.py:3174: VisibleDeprecationWarning: use of scale='raw' is deprecated, use scale=1.0 instead\n",
      "  warnings.warn(\n"
     ]
    },
    {
     "name": "stdout",
     "output_type": "stream",
     "text": [
      "w0.010 pRX0.001 300.txt 720\n"
     ]
    },
    {
     "name": "stderr",
     "output_type": "stream",
     "text": [
      "/home/gsun/.virtualenvs/new_main/lib/python3.10/site-packages/scipy/stats/_stats_py.py:3174: VisibleDeprecationWarning: use of scale='raw' is deprecated, use scale=1.0 instead\n",
      "  warnings.warn(\n"
     ]
    },
    {
     "name": "stdout",
     "output_type": "stream",
     "text": [
      "w0.010 pRX0.01 60.txt 721\n"
     ]
    },
    {
     "name": "stderr",
     "output_type": "stream",
     "text": [
      "/home/gsun/.virtualenvs/new_main/lib/python3.10/site-packages/scipy/stats/_stats_py.py:3174: VisibleDeprecationWarning: use of scale='raw' is deprecated, use scale=1.0 instead\n",
      "  warnings.warn(\n"
     ]
    },
    {
     "name": "stdout",
     "output_type": "stream",
     "text": [
      "w0.010 pRX0.01 120.txt 721\n"
     ]
    },
    {
     "name": "stderr",
     "output_type": "stream",
     "text": [
      "/home/gsun/.virtualenvs/new_main/lib/python3.10/site-packages/scipy/stats/_stats_py.py:3174: VisibleDeprecationWarning: use of scale='raw' is deprecated, use scale=1.0 instead\n",
      "  warnings.warn(\n"
     ]
    },
    {
     "name": "stdout",
     "output_type": "stream",
     "text": [
      "w0.010 pRX0.01 180.txt 721\n"
     ]
    },
    {
     "name": "stderr",
     "output_type": "stream",
     "text": [
      "/home/gsun/.virtualenvs/new_main/lib/python3.10/site-packages/scipy/stats/_stats_py.py:3174: VisibleDeprecationWarning: use of scale='raw' is deprecated, use scale=1.0 instead\n",
      "  warnings.warn(\n"
     ]
    },
    {
     "name": "stdout",
     "output_type": "stream",
     "text": [
      "w0.010 pRX0.01 300.txt 721\n"
     ]
    },
    {
     "name": "stderr",
     "output_type": "stream",
     "text": [
      "/home/gsun/.virtualenvs/new_main/lib/python3.10/site-packages/scipy/stats/_stats_py.py:3174: VisibleDeprecationWarning: use of scale='raw' is deprecated, use scale=1.0 instead\n",
      "  warnings.warn(\n"
     ]
    },
    {
     "name": "stdout",
     "output_type": "stream",
     "text": [
      "w0.015 pRX0.00001 60.txt 720\n"
     ]
    },
    {
     "name": "stderr",
     "output_type": "stream",
     "text": [
      "/home/gsun/.virtualenvs/new_main/lib/python3.10/site-packages/scipy/stats/_stats_py.py:3174: VisibleDeprecationWarning: use of scale='raw' is deprecated, use scale=1.0 instead\n",
      "  warnings.warn(\n"
     ]
    },
    {
     "name": "stdout",
     "output_type": "stream",
     "text": [
      "w0.015 pRX0.00001 120.txt 720\n"
     ]
    },
    {
     "name": "stderr",
     "output_type": "stream",
     "text": [
      "/home/gsun/.virtualenvs/new_main/lib/python3.10/site-packages/scipy/stats/_stats_py.py:3174: VisibleDeprecationWarning: use of scale='raw' is deprecated, use scale=1.0 instead\n",
      "  warnings.warn(\n"
     ]
    },
    {
     "name": "stdout",
     "output_type": "stream",
     "text": [
      "w0.015 pRX0.00001 180.txt 720\n"
     ]
    },
    {
     "name": "stderr",
     "output_type": "stream",
     "text": [
      "/home/gsun/.virtualenvs/new_main/lib/python3.10/site-packages/scipy/stats/_stats_py.py:3174: VisibleDeprecationWarning: use of scale='raw' is deprecated, use scale=1.0 instead\n",
      "  warnings.warn(\n"
     ]
    },
    {
     "name": "stdout",
     "output_type": "stream",
     "text": [
      "w0.015 pRX0.00001 300.txt 720\n"
     ]
    },
    {
     "name": "stderr",
     "output_type": "stream",
     "text": [
      "/home/gsun/.virtualenvs/new_main/lib/python3.10/site-packages/scipy/stats/_stats_py.py:3174: VisibleDeprecationWarning: use of scale='raw' is deprecated, use scale=1.0 instead\n",
      "  warnings.warn(\n"
     ]
    },
    {
     "name": "stdout",
     "output_type": "stream",
     "text": [
      "w0.015 pRX0.0001 60.txt 721\n"
     ]
    },
    {
     "name": "stderr",
     "output_type": "stream",
     "text": [
      "/home/gsun/.virtualenvs/new_main/lib/python3.10/site-packages/scipy/stats/_stats_py.py:3174: VisibleDeprecationWarning: use of scale='raw' is deprecated, use scale=1.0 instead\n",
      "  warnings.warn(\n"
     ]
    },
    {
     "name": "stdout",
     "output_type": "stream",
     "text": [
      "w0.015 pRX0.0001 120.txt 721\n"
     ]
    },
    {
     "name": "stderr",
     "output_type": "stream",
     "text": [
      "/home/gsun/.virtualenvs/new_main/lib/python3.10/site-packages/scipy/stats/_stats_py.py:3174: VisibleDeprecationWarning: use of scale='raw' is deprecated, use scale=1.0 instead\n",
      "  warnings.warn(\n"
     ]
    },
    {
     "name": "stdout",
     "output_type": "stream",
     "text": [
      "w0.015 pRX0.0001 180.txt 721\n"
     ]
    },
    {
     "name": "stderr",
     "output_type": "stream",
     "text": [
      "/home/gsun/.virtualenvs/new_main/lib/python3.10/site-packages/scipy/stats/_stats_py.py:3174: VisibleDeprecationWarning: use of scale='raw' is deprecated, use scale=1.0 instead\n",
      "  warnings.warn(\n"
     ]
    },
    {
     "name": "stdout",
     "output_type": "stream",
     "text": [
      "w0.015 pRX0.0001 300.txt 721\n"
     ]
    },
    {
     "name": "stderr",
     "output_type": "stream",
     "text": [
      "/home/gsun/.virtualenvs/new_main/lib/python3.10/site-packages/scipy/stats/_stats_py.py:3174: VisibleDeprecationWarning: use of scale='raw' is deprecated, use scale=1.0 instead\n",
      "  warnings.warn(\n"
     ]
    },
    {
     "name": "stdout",
     "output_type": "stream",
     "text": [
      "w0.015 pRX0.001 60.txt 721\n"
     ]
    },
    {
     "name": "stderr",
     "output_type": "stream",
     "text": [
      "/home/gsun/.virtualenvs/new_main/lib/python3.10/site-packages/scipy/stats/_stats_py.py:3174: VisibleDeprecationWarning: use of scale='raw' is deprecated, use scale=1.0 instead\n",
      "  warnings.warn(\n"
     ]
    },
    {
     "name": "stdout",
     "output_type": "stream",
     "text": [
      "w0.015 pRX0.001 120.txt 721\n"
     ]
    },
    {
     "name": "stderr",
     "output_type": "stream",
     "text": [
      "/home/gsun/.virtualenvs/new_main/lib/python3.10/site-packages/scipy/stats/_stats_py.py:3174: VisibleDeprecationWarning: use of scale='raw' is deprecated, use scale=1.0 instead\n",
      "  warnings.warn(\n"
     ]
    },
    {
     "name": "stdout",
     "output_type": "stream",
     "text": [
      "w0.015 pRX0.001 180.txt 721\n"
     ]
    },
    {
     "name": "stderr",
     "output_type": "stream",
     "text": [
      "/home/gsun/.virtualenvs/new_main/lib/python3.10/site-packages/scipy/stats/_stats_py.py:3174: VisibleDeprecationWarning: use of scale='raw' is deprecated, use scale=1.0 instead\n",
      "  warnings.warn(\n"
     ]
    },
    {
     "name": "stdout",
     "output_type": "stream",
     "text": [
      "w0.015 pRX0.001 300.txt 721\n"
     ]
    },
    {
     "name": "stderr",
     "output_type": "stream",
     "text": [
      "/home/gsun/.virtualenvs/new_main/lib/python3.10/site-packages/scipy/stats/_stats_py.py:3174: VisibleDeprecationWarning: use of scale='raw' is deprecated, use scale=1.0 instead\n",
      "  warnings.warn(\n"
     ]
    },
    {
     "name": "stdout",
     "output_type": "stream",
     "text": [
      "w0.015 pRX0.01 60.txt 721\n"
     ]
    },
    {
     "name": "stderr",
     "output_type": "stream",
     "text": [
      "/home/gsun/.virtualenvs/new_main/lib/python3.10/site-packages/scipy/stats/_stats_py.py:3174: VisibleDeprecationWarning: use of scale='raw' is deprecated, use scale=1.0 instead\n",
      "  warnings.warn(\n"
     ]
    },
    {
     "name": "stdout",
     "output_type": "stream",
     "text": [
      "w0.015 pRX0.01 120.txt 721\n"
     ]
    },
    {
     "name": "stderr",
     "output_type": "stream",
     "text": [
      "/home/gsun/.virtualenvs/new_main/lib/python3.10/site-packages/scipy/stats/_stats_py.py:3174: VisibleDeprecationWarning: use of scale='raw' is deprecated, use scale=1.0 instead\n",
      "  warnings.warn(\n"
     ]
    },
    {
     "name": "stdout",
     "output_type": "stream",
     "text": [
      "w0.015 pRX0.01 180.txt 721\n"
     ]
    },
    {
     "name": "stderr",
     "output_type": "stream",
     "text": [
      "/home/gsun/.virtualenvs/new_main/lib/python3.10/site-packages/scipy/stats/_stats_py.py:3174: VisibleDeprecationWarning: use of scale='raw' is deprecated, use scale=1.0 instead\n",
      "  warnings.warn(\n"
     ]
    },
    {
     "name": "stdout",
     "output_type": "stream",
     "text": [
      "w0.015 pRX0.01 300.txt 721\n"
     ]
    },
    {
     "name": "stderr",
     "output_type": "stream",
     "text": [
      "/home/gsun/.virtualenvs/new_main/lib/python3.10/site-packages/scipy/stats/_stats_py.py:3174: VisibleDeprecationWarning: use of scale='raw' is deprecated, use scale=1.0 instead\n",
      "  warnings.warn(\n"
     ]
    },
    {
     "name": "stdout",
     "output_type": "stream",
     "text": [
      "w0.02 pRX0.00001 60.txt 721\n"
     ]
    },
    {
     "name": "stderr",
     "output_type": "stream",
     "text": [
      "/home/gsun/.virtualenvs/new_main/lib/python3.10/site-packages/scipy/stats/_stats_py.py:3174: VisibleDeprecationWarning: use of scale='raw' is deprecated, use scale=1.0 instead\n",
      "  warnings.warn(\n"
     ]
    },
    {
     "name": "stdout",
     "output_type": "stream",
     "text": [
      "w0.02 pRX0.00001 120.txt 721\n"
     ]
    },
    {
     "name": "stderr",
     "output_type": "stream",
     "text": [
      "/home/gsun/.virtualenvs/new_main/lib/python3.10/site-packages/scipy/stats/_stats_py.py:3174: VisibleDeprecationWarning: use of scale='raw' is deprecated, use scale=1.0 instead\n",
      "  warnings.warn(\n"
     ]
    },
    {
     "name": "stdout",
     "output_type": "stream",
     "text": [
      "w0.02 pRX0.00001 180.txt 721\n"
     ]
    },
    {
     "name": "stderr",
     "output_type": "stream",
     "text": [
      "/home/gsun/.virtualenvs/new_main/lib/python3.10/site-packages/scipy/stats/_stats_py.py:3174: VisibleDeprecationWarning: use of scale='raw' is deprecated, use scale=1.0 instead\n",
      "  warnings.warn(\n"
     ]
    },
    {
     "name": "stdout",
     "output_type": "stream",
     "text": [
      "w0.02 pRX0.00001 300.txt 721\n"
     ]
    },
    {
     "name": "stderr",
     "output_type": "stream",
     "text": [
      "/home/gsun/.virtualenvs/new_main/lib/python3.10/site-packages/scipy/stats/_stats_py.py:3174: VisibleDeprecationWarning: use of scale='raw' is deprecated, use scale=1.0 instead\n",
      "  warnings.warn(\n"
     ]
    },
    {
     "name": "stdout",
     "output_type": "stream",
     "text": [
      "w0.02 pRX0.0001 60.txt 721\n"
     ]
    },
    {
     "name": "stderr",
     "output_type": "stream",
     "text": [
      "/home/gsun/.virtualenvs/new_main/lib/python3.10/site-packages/scipy/stats/_stats_py.py:3174: VisibleDeprecationWarning: use of scale='raw' is deprecated, use scale=1.0 instead\n",
      "  warnings.warn(\n"
     ]
    },
    {
     "name": "stdout",
     "output_type": "stream",
     "text": [
      "w0.02 pRX0.0001 120.txt 721\n"
     ]
    },
    {
     "name": "stderr",
     "output_type": "stream",
     "text": [
      "/home/gsun/.virtualenvs/new_main/lib/python3.10/site-packages/scipy/stats/_stats_py.py:3174: VisibleDeprecationWarning: use of scale='raw' is deprecated, use scale=1.0 instead\n",
      "  warnings.warn(\n"
     ]
    },
    {
     "name": "stdout",
     "output_type": "stream",
     "text": [
      "w0.02 pRX0.0001 180.txt 721\n"
     ]
    },
    {
     "name": "stderr",
     "output_type": "stream",
     "text": [
      "/home/gsun/.virtualenvs/new_main/lib/python3.10/site-packages/scipy/stats/_stats_py.py:3174: VisibleDeprecationWarning: use of scale='raw' is deprecated, use scale=1.0 instead\n",
      "  warnings.warn(\n"
     ]
    },
    {
     "name": "stdout",
     "output_type": "stream",
     "text": [
      "w0.02 pRX0.0001 300.txt 721\n"
     ]
    },
    {
     "name": "stderr",
     "output_type": "stream",
     "text": [
      "/home/gsun/.virtualenvs/new_main/lib/python3.10/site-packages/scipy/stats/_stats_py.py:3174: VisibleDeprecationWarning: use of scale='raw' is deprecated, use scale=1.0 instead\n",
      "  warnings.warn(\n"
     ]
    },
    {
     "name": "stdout",
     "output_type": "stream",
     "text": [
      "w0.02 pRX0.001 60.txt 721\n"
     ]
    },
    {
     "name": "stderr",
     "output_type": "stream",
     "text": [
      "/home/gsun/.virtualenvs/new_main/lib/python3.10/site-packages/scipy/stats/_stats_py.py:3174: VisibleDeprecationWarning: use of scale='raw' is deprecated, use scale=1.0 instead\n",
      "  warnings.warn(\n"
     ]
    },
    {
     "name": "stdout",
     "output_type": "stream",
     "text": [
      "w0.02 pRX0.001 120.txt 721\n"
     ]
    },
    {
     "name": "stderr",
     "output_type": "stream",
     "text": [
      "/home/gsun/.virtualenvs/new_main/lib/python3.10/site-packages/scipy/stats/_stats_py.py:3174: VisibleDeprecationWarning: use of scale='raw' is deprecated, use scale=1.0 instead\n",
      "  warnings.warn(\n"
     ]
    },
    {
     "name": "stdout",
     "output_type": "stream",
     "text": [
      "w0.02 pRX0.001 180.txt 721\n"
     ]
    },
    {
     "name": "stderr",
     "output_type": "stream",
     "text": [
      "/home/gsun/.virtualenvs/new_main/lib/python3.10/site-packages/scipy/stats/_stats_py.py:3174: VisibleDeprecationWarning: use of scale='raw' is deprecated, use scale=1.0 instead\n",
      "  warnings.warn(\n"
     ]
    },
    {
     "name": "stdout",
     "output_type": "stream",
     "text": [
      "w0.02 pRX0.001 300.txt 721\n"
     ]
    },
    {
     "name": "stderr",
     "output_type": "stream",
     "text": [
      "/home/gsun/.virtualenvs/new_main/lib/python3.10/site-packages/scipy/stats/_stats_py.py:3174: VisibleDeprecationWarning: use of scale='raw' is deprecated, use scale=1.0 instead\n",
      "  warnings.warn(\n"
     ]
    },
    {
     "name": "stdout",
     "output_type": "stream",
     "text": [
      "w0.02 pRX0.01 60.txt 720\n"
     ]
    },
    {
     "name": "stderr",
     "output_type": "stream",
     "text": [
      "/home/gsun/.virtualenvs/new_main/lib/python3.10/site-packages/scipy/stats/_stats_py.py:3174: VisibleDeprecationWarning: use of scale='raw' is deprecated, use scale=1.0 instead\n",
      "  warnings.warn(\n"
     ]
    },
    {
     "name": "stdout",
     "output_type": "stream",
     "text": [
      "w0.02 pRX0.01 120.txt 720\n"
     ]
    },
    {
     "name": "stderr",
     "output_type": "stream",
     "text": [
      "/home/gsun/.virtualenvs/new_main/lib/python3.10/site-packages/scipy/stats/_stats_py.py:3174: VisibleDeprecationWarning: use of scale='raw' is deprecated, use scale=1.0 instead\n",
      "  warnings.warn(\n"
     ]
    },
    {
     "name": "stdout",
     "output_type": "stream",
     "text": [
      "w0.02 pRX0.01 180.txt 720\n"
     ]
    },
    {
     "name": "stderr",
     "output_type": "stream",
     "text": [
      "/home/gsun/.virtualenvs/new_main/lib/python3.10/site-packages/scipy/stats/_stats_py.py:3174: VisibleDeprecationWarning: use of scale='raw' is deprecated, use scale=1.0 instead\n",
      "  warnings.warn(\n"
     ]
    },
    {
     "name": "stdout",
     "output_type": "stream",
     "text": [
      "w0.02 pRX0.01 300.txt 720\n"
     ]
    },
    {
     "name": "stderr",
     "output_type": "stream",
     "text": [
      "/home/gsun/.virtualenvs/new_main/lib/python3.10/site-packages/scipy/stats/_stats_py.py:3174: VisibleDeprecationWarning: use of scale='raw' is deprecated, use scale=1.0 instead\n",
      "  warnings.warn(\n"
     ]
    }
   ],
   "source": [
    "\n",
    "# width values = {0.01,0.015, 0.02}\n",
    "# pRX values = {0.00001, 0.0001, 0.001, 0.01}\n",
    "FILENAME_PARAM_DEPTH = -7\n",
    "\n",
    "\n",
    "for w_val in [\"w0.010\", \"w0.015\", \"w0.02\"]:\n",
    "    for pRX_val in [\"pRX0.00001\", \"pRX0.0001\", \"pRX0.001\", \"pRX0.01\"]:\n",
    "        for t_val in [\"60.txt\", \"120.txt\",\"180.txt\",\"300.txt\"]:\n",
    "            filelist = getFilenames(\"../experiments_endHoles/\", queries=[w_val,pRX_val,t_val])\n",
    "            print(w_val,pRX_val,t_val, len(filelist))\n",
    "            dataframe = []\n",
    "\n",
    "\n",
    "            for filepath in filelist:\n",
    "                try:\n",
    "                    df = pd.read_csv(filepath, header=None)\n",
    "                # If the file is empty (no marked points, skip)\n",
    "                except Exception:\n",
    "                    continue\n",
    "                df = df.rename(columns={0:\"X\"})\n",
    "                file_basename = os.path.basename(filepath)\n",
    "                # df['filename'] = file_basename\n",
    "                split_filename = file_basename.split(\"_\")\n",
    "                # print(split_filename[FILENAME_PARAM_DEPTH:])\n",
    "\n",
    "                #### MODIFY AS NECESSARY DEPENDING ON HOW LONG THE FILENAME IS ####\n",
    "                nHoles, hole_width, pRX, pI, pO, sim_ID, timestamp = split_filename[FILENAME_PARAM_DEPTH:]\n",
    "                timestamp = int(timestamp.replace(\".txt\",\"\"))\n",
    "                df[\"nHoles\"] = int(nHoles[2:])\n",
    "                # df[\"hole_width\"] = float(hole_width[1:])\n",
    "                # df[\"pRX\"] = float(pRX[3:])\n",
    "                # df[\"pI\"] = float(pI[2:])\n",
    "                # df[\"pO\"] = float(pO[2:])\n",
    "                df[\"sim_ID\"] = int(sim_ID[1:])\n",
    "                # df[\"timestamp\"] = timestamp\n",
    "                dataframe +=[ df]\n",
    "            dataframe = pd.concat(dataframe)\n",
    "            nbins = freedman_diaconis(dataframe['X'], returnas=\"nbins\") \n",
    "            \n",
    "            histogram_df = []\n",
    "            for n_hole_val in [0, 1, 3, 7, 15, 31, 63]:\n",
    "                \n",
    "                sub_df = dataframe[dataframe['nHoles']==n_hole_val]\n",
    "                counts, bin_edges = np.histogram(sub_df['X'], bins=nbins, range = (-25.0,25.0))\n",
    "                bin_center = (bin_edges[:-1] + bin_edges[1:]) / 2\n",
    "                # counts = counts.astype(np.float16)\n",
    "                # counts /= np.max(counts)\n",
    "                density_df = {\"bin_center\":bin_center, \"density\":counts}\n",
    "                density_df = pd.DataFrame(density_df)\n",
    "                density_df[\"nHoles\"] = n_hole_val\n",
    "                histogram_df += [density_df]\n",
    "            histogram_df = pd.concat(histogram_df)\n",
    "            histogram_df.reset_index(drop=True)\n",
    "            histogram_df.to_csv(f\"histogramNoDensity_noCollision_endHoles_{w_val}_{pRX_val}_t{t_val[:-4]}.csv\")\n",
    "            "
   ]
  }
 ],
 "metadata": {
  "kernelspec": {
   "display_name": "main",
   "language": "python",
   "name": "python3"
  },
  "language_info": {
   "codemirror_mode": {
    "name": "ipython",
    "version": 3
   },
   "file_extension": ".py",
   "mimetype": "text/x-python",
   "name": "python",
   "nbconvert_exporter": "python",
   "pygments_lexer": "ipython3",
   "version": "3.10.6"
  },
  "orig_nbformat": 4
 },
 "nbformat": 4,
 "nbformat_minor": 2
}
