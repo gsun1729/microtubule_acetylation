{
 "cells": [
  {
   "cell_type": "code",
   "execution_count": 2,
   "metadata": {},
   "outputs": [],
   "source": [
    "import pandas as pd\n",
    "import numpy as np\n",
    "import os\n",
    "import matplotlib.pyplot as plt\n",
    "from utils.file_utils import getFilenames\n",
    "\n",
    "from scipy import stats\n",
    "\n",
    "\n",
    "def freedman_diaconis(data, returnas=\"width\"):\n",
    "    \"\"\"\n",
    "    Use Freedman Diaconis rule to compute optimal histogram bin width. \n",
    "    ``returnas`` can be one of \"width\" or \"bins\", indicating whether\n",
    "    the bin width or number of bins should be returned respectively. \n",
    "\n",
    "    http://www.jtrive.com/determining-histogram-bin-width-using-the-freedman-diaconis-rule.html\n",
    "    \n",
    "    Parameters\n",
    "    ----------\n",
    "    data: np.ndarray\n",
    "        One-dimensional array.\n",
    "\n",
    "    returnas: {\"width\", \"bins\"}\n",
    "        If \"width\", return the estimated width for each histogram bin. \n",
    "        If \"bins\", return the number of bins suggested by rule.\n",
    "    \"\"\"\n",
    "    data = np.asarray(data, dtype=np.float_)\n",
    "    IQR  = stats.iqr(data, rng=(25, 75), scale=\"raw\", nan_policy=\"omit\")\n",
    "    N    = data.size\n",
    "    bw   = (2 * IQR) / np.power(N, 1/3)\n",
    "\n",
    "    if returnas==\"width\":\n",
    "        result = bw\n",
    "    else:\n",
    "        datmin, datmax = data.min(), data.max()\n",
    "        datrng = datmax - datmin\n",
    "        result = int((datrng / bw) + 1)\n",
    "    return(result)"
   ]
  },
  {
   "cell_type": "code",
   "execution_count": 3,
   "metadata": {},
   "outputs": [
    {
     "name": "stdout",
     "output_type": "stream",
     "text": [
      "2019\n"
     ]
    }
   ],
   "source": [
    "\n",
    "\n",
    "filelist = getFilenames(\"../experiments/\", queries=[\".txt\"])\n",
    "print(len(filelist))"
   ]
  },
  {
   "cell_type": "code",
   "execution_count": 15,
   "metadata": {},
   "outputs": [
    {
     "data": {
      "text/html": [
       "<div>\n",
       "<style scoped>\n",
       "    .dataframe tbody tr th:only-of-type {\n",
       "        vertical-align: middle;\n",
       "    }\n",
       "\n",
       "    .dataframe tbody tr th {\n",
       "        vertical-align: top;\n",
       "    }\n",
       "\n",
       "    .dataframe thead th {\n",
       "        text-align: right;\n",
       "    }\n",
       "</style>\n",
       "<table border=\"1\" class=\"dataframe\">\n",
       "  <thead>\n",
       "    <tr style=\"text-align: right;\">\n",
       "      <th></th>\n",
       "      <th>X</th>\n",
       "      <th>filename</th>\n",
       "      <th>nHoles</th>\n",
       "      <th>hole_width</th>\n",
       "      <th>pRX</th>\n",
       "      <th>pI</th>\n",
       "      <th>pO</th>\n",
       "      <th>sim_ID</th>\n",
       "      <th>timestamp</th>\n",
       "    </tr>\n",
       "  </thead>\n",
       "  <tbody>\n",
       "    <tr>\n",
       "      <th>0</th>\n",
       "      <td>-0.818363</td>\n",
       "      <td>2023070619504900004_testing_runs_nH1_w0.010000...</td>\n",
       "      <td>1</td>\n",
       "      <td>0.01</td>\n",
       "      <td>0.00001</td>\n",
       "      <td>0.000005</td>\n",
       "      <td>0.000005</td>\n",
       "      <td>0</td>\n",
       "      <td>120</td>\n",
       "    </tr>\n",
       "    <tr>\n",
       "      <th>0</th>\n",
       "      <td>-0.818363</td>\n",
       "      <td>2023070619504900004_testing_runs_nH1_w0.010000...</td>\n",
       "      <td>1</td>\n",
       "      <td>0.01</td>\n",
       "      <td>0.00001</td>\n",
       "      <td>0.000005</td>\n",
       "      <td>0.000005</td>\n",
       "      <td>0</td>\n",
       "      <td>180</td>\n",
       "    </tr>\n",
       "    <tr>\n",
       "      <th>0</th>\n",
       "      <td>-0.818363</td>\n",
       "      <td>2023070619504900004_testing_runs_nH1_w0.010000...</td>\n",
       "      <td>1</td>\n",
       "      <td>0.01</td>\n",
       "      <td>0.00001</td>\n",
       "      <td>0.000005</td>\n",
       "      <td>0.000005</td>\n",
       "      <td>0</td>\n",
       "      <td>240</td>\n",
       "    </tr>\n",
       "    <tr>\n",
       "      <th>1</th>\n",
       "      <td>13.363000</td>\n",
       "      <td>2023070619504900004_testing_runs_nH1_w0.010000...</td>\n",
       "      <td>1</td>\n",
       "      <td>0.01</td>\n",
       "      <td>0.00001</td>\n",
       "      <td>0.000005</td>\n",
       "      <td>0.000005</td>\n",
       "      <td>0</td>\n",
       "      <td>240</td>\n",
       "    </tr>\n",
       "    <tr>\n",
       "      <th>2</th>\n",
       "      <td>-3.234460</td>\n",
       "      <td>2023070619504900004_testing_runs_nH1_w0.010000...</td>\n",
       "      <td>1</td>\n",
       "      <td>0.01</td>\n",
       "      <td>0.00001</td>\n",
       "      <td>0.000005</td>\n",
       "      <td>0.000005</td>\n",
       "      <td>0</td>\n",
       "      <td>240</td>\n",
       "    </tr>\n",
       "  </tbody>\n",
       "</table>\n",
       "</div>"
      ],
      "text/plain": [
       "           X                                           filename  nHoles  \\\n",
       "0  -0.818363  2023070619504900004_testing_runs_nH1_w0.010000...       1   \n",
       "0  -0.818363  2023070619504900004_testing_runs_nH1_w0.010000...       1   \n",
       "0  -0.818363  2023070619504900004_testing_runs_nH1_w0.010000...       1   \n",
       "1  13.363000  2023070619504900004_testing_runs_nH1_w0.010000...       1   \n",
       "2  -3.234460  2023070619504900004_testing_runs_nH1_w0.010000...       1   \n",
       "\n",
       "   hole_width      pRX        pI        pO  sim_ID  timestamp  \n",
       "0        0.01  0.00001  0.000005  0.000005       0        120  \n",
       "0        0.01  0.00001  0.000005  0.000005       0        180  \n",
       "0        0.01  0.00001  0.000005  0.000005       0        240  \n",
       "1        0.01  0.00001  0.000005  0.000005       0        240  \n",
       "2        0.01  0.00001  0.000005  0.000005       0        240  "
      ]
     },
     "execution_count": 15,
     "metadata": {},
     "output_type": "execute_result"
    }
   ],
   "source": [
    "dataframe = []\n",
    "\n",
    "FILENAME_PARAM_DEPTH = -7\n",
    "\n",
    "for filepath in filelist:\n",
    "    try:\n",
    "        df = pd.read_csv(filepath, header=None)\n",
    "    # If the file is empty (no marked points, skip)\n",
    "    except Exception:\n",
    "        continue\n",
    "    df = df.rename(columns={0:\"X\"})\n",
    "    file_basename = os.path.basename(filepath)\n",
    "    # df['filename'] = file_basename\n",
    "    split_filename = file_basename.split(\"_\")\n",
    "    # print(split_filename[FILENAME_PARAM_DEPTH:])\n",
    "\n",
    "    #### MODIFY AS NECESSARY DEPENDING ON HOW LONG THE FILENAME IS ####\n",
    "    nHoles, hole_width, pRX, pI, pO, sim_ID, timestamp = split_filename[FILENAME_PARAM_DEPTH:]\n",
    "    timestamp = int(timestamp.replace(\".txt\",\"\"))\n",
    "    df[\"nHoles\"] = int(nHoles[2:])\n",
    "    df[\"hole_width\"] = float(hole_width[1:])\n",
    "    df[\"pRX\"] = float(pRX[3:])\n",
    "    df[\"pI\"] = float(pI[2:])\n",
    "    df[\"pO\"] = float(pO[2:])\n",
    "    df[\"sim_ID\"] = int(sim_ID[1:])\n",
    "    df[\"timestamp\"] = timestamp\n",
    "    dataframe +=[ df]\n",
    "    \n",
    "dataframe = pd.concat(dataframe)\n",
    "dataframe.head()"
   ]
  },
  {
   "cell_type": "code",
   "execution_count": 16,
   "metadata": {},
   "outputs": [],
   "source": [
    "dataframe.to_csv(\"test.csv\")"
   ]
  },
  {
   "cell_type": "code",
   "execution_count": 8,
   "metadata": {},
   "outputs": [
    {
     "data": {
      "text/plain": [
       "array(['pRX0.000010', 'pRX0.000100', 'pRX0.001000', 'pRX0.010000'],\n",
       "      dtype=object)"
      ]
     },
     "execution_count": 8,
     "metadata": {},
     "output_type": "execute_result"
    }
   ],
   "source": [
    "np.unique(dataframe[\"pRX\"])"
   ]
  },
  {
   "cell_type": "code",
   "execution_count": 14,
   "metadata": {},
   "outputs": [
    {
     "data": {
      "text/plain": [
       "'H1'"
      ]
     },
     "execution_count": 14,
     "metadata": {},
     "output_type": "execute_result"
    }
   ],
   "source": [
    "a = \"nH1\"\n",
    "a[1:]"
   ]
  },
  {
   "cell_type": "code",
   "execution_count": 12,
   "metadata": {},
   "outputs": [
    {
     "name": "stderr",
     "output_type": "stream",
     "text": [
      "/Users/gsun/.virtualenvs/main/lib/python3.8/site-packages/scipy/stats/_stats_py.py:2841: VisibleDeprecationWarning: use of scale='raw' is deprecated, use scale=1.0 instead\n",
      "  warnings.warn(\n"
     ]
    },
    {
     "data": {
      "image/png": "[encoded data removed]",
      "text/plain": [
       "<Figure size 432x288 with 1 Axes>"
      ]
     },
     "metadata": {
      "needs_background": "light"
     },
     "output_type": "display_data"
    }
   ],
   "source": [
    "plotting_data = dataframe[(dataframe[\"timestamp\"]==300)&(dataframe[\"pRX\"]==\"pRX0.000100\")]['X']\n",
    "nbins = freedman_diaconis(plotting_data, \"bins\")\n",
    "_= plt.hist(plotting_data, bins=nbins, density=True)"
   ]
  },
  {
   "cell_type": "code",
   "execution_count": 63,
   "metadata": {},
   "outputs": [
    {
     "data": {
      "text/plain": [
       "239"
      ]
     },
     "execution_count": 63,
     "metadata": {},
     "output_type": "execute_result"
    }
   ],
   "source": [
    "nbins"
   ]
  },
  {
   "cell_type": "code",
   "execution_count": null,
   "metadata": {},
   "outputs": [],
   "source": []
  }
 ],
 "metadata": {
  "kernelspec": {
   "display_name": "main",
   "language": "python",
   "name": "python3"
  },
  "language_info": {
   "codemirror_mode": {
    "name": "ipython",
    "version": 3
   },
   "file_extension": ".py",
   "mimetype": "text/x-python",
   "name": "python",
   "nbconvert_exporter": "python",
   "pygments_lexer": "ipython3",
   "version": "3.8.16"
  },
  "orig_nbformat": 4
 },
 "nbformat": 4,
 "nbformat_minor": 2
}
